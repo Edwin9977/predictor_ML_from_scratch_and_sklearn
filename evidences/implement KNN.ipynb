{
  "nbformat": 4,
  "nbformat_minor": 0,
  "metadata": {
    "colab": {
      "provenance": []
    },
    "kernelspec": {
      "name": "python3",
      "display_name": "Python 3"
    },
    "language_info": {
      "name": "python"
    }
  },
  "cells": [
    {
      "cell_type": "markdown",
      "source": [
        "##KNN\n",
        "#In the following notebook, we'll see an implementation code of the intuition behind the **K-NN** algorithm without using external libraries."
      ],
      "metadata": {
        "id": "DxkXncr7JRPz"
      }
    },
    {
      "cell_type": "markdown",
      "source": [
        "explanation, let's suppose that there are different points in a space and that in total there are 2 different types of points, red and blue points. if a new point enters the space, we must know if it belongs to the red points or to the blue ones, but to know this we must know what kind of points are the closest to it, so we must compare it with K number of close points (or neighbors) to reach a conclusion, then, supposing that we compare it with 3 neighbors, of which 2 are blue and 1 is red, then, with this information we can deduce that the new point is a blue one.\n",
        "This is the general idea behind the KNN algorithm."
      ],
      "metadata": {
        "id": "EFOvUkw0CmFv"
      }
    },
    {
      "cell_type": "markdown",
      "source": [
        "\n",
        "\n",
        "---\n",
        "\n"
      ],
      "metadata": {
        "id": "dgEBh_RQCqRz"
      }
    },
    {
      "cell_type": "markdown",
      "source": [
        "This function returns the distance between two arrays"
      ],
      "metadata": {
        "id": "eK9CI9QgfPVj"
      }
    },
    {
      "cell_type": "code",
      "source": [
        "def calcDistance(arr1, arr2):\n",
        "  res = 0\n",
        "  for i in range(len(arr1)):\n",
        "    dif = arr1[i] - arr2[i]\n",
        "    res = res + dif**2\n",
        "  return res**0.5"
      ],
      "metadata": {
        "id": "mVX6xxJmJSii"
      },
      "execution_count": null,
      "outputs": []
    },
    {
      "cell_type": "markdown",
      "source": [
        "Here I define the number of neighbours which will be 3 and the new observation with the name **entry**"
      ],
      "metadata": {
        "id": "RvBzo0nJ9cKN"
      }
    },
    {
      "cell_type": "code",
      "source": [
        "k = 3\n",
        "entry = [8, 3, 10, 4, 12]"
      ],
      "metadata": {
        "id": "pwg4eYc0aNjW"
      },
      "execution_count": null,
      "outputs": []
    },
    {
      "cell_type": "markdown",
      "source": [
        "Data set for testing\n",
        "\n",
        "The last element of every observation is the **label**"
      ],
      "metadata": {
        "id": "l_2yRd6KfVl7"
      }
    },
    {
      "cell_type": "code",
      "source": [
        "dataSet  = [\n",
        "    [12, 3, 4, 5, 7, 1],\n",
        "    [45, 8, 2, 56, 1, 1],\n",
        "    [1, 2, 3, 4, 5, 0],\n",
        "    [5, 10, 8, 6, 3, 0]\n",
        "]"
      ],
      "metadata": {
        "id": "KdnR4gfxaPSA"
      },
      "execution_count": null,
      "outputs": []
    },
    {
      "cell_type": "markdown",
      "source": [
        "This for-loop creates a dictionary with dictionaries that contain the label and **distances** between the observations in dataSet and the entry observation.\n",
        "\n",
        "Also, it creates an array with the distances."
      ],
      "metadata": {
        "id": "jjNTXsGjf3V5"
      }
    },
    {
      "cell_type": "code",
      "source": [
        "dictionary = {}\n",
        "distances = []\n",
        "for i in range(len(dataSet)):\n",
        "  arr = dataSet[i][:-1]\n",
        "  label = dataSet[i][-1]\n",
        "  distance = calcDistance(entry, arr)\n",
        "  dictionary[i] = {\n",
        "      'distance':distance,\n",
        "      'label': label\n",
        "  }\n",
        "  distances.append(distance)\n",
        "dictionary"
      ],
      "metadata": {
        "colab": {
          "base_uri": "https://localhost:8080/"
        },
        "id": "a3Eb1QlVL_f9",
        "outputId": "e03a0980-81a5-45ab-c1d8-e22262494420"
      },
      "execution_count": null,
      "outputs": [
        {
          "output_type": "execute_result",
          "data": {
            "text/plain": [
              "{0: {'distance': 8.831760866327848, 'label': 1},\n",
              " 1: {'distance': 65.4446330878247, 'label': 1},\n",
              " 2: {'distance': 12.165525060596439, 'label': 0},\n",
              " 3: {'distance': 12.12435565298214, 'label': 0}}"
            ]
          },
          "metadata": {},
          "execution_count": 37
        }
      ]
    },
    {
      "cell_type": "markdown",
      "source": [
        "Once I finish the dictionary, I sort the distances and take the first **k** elements, and then I get the labels of each distance using a for-loop."
      ],
      "metadata": {
        "id": "x1RR9NWih7Uw"
      }
    },
    {
      "cell_type": "code",
      "source": [
        "sortedDistances = sorted(distances)[:k]\n",
        "labels = []\n",
        "for key in dictionary:\n",
        "  if dictionary[key]['distance'] in sortedDistances:\n",
        "    labels.append(dictionary[key]['label'])\n",
        "labels"
      ],
      "metadata": {
        "colab": {
          "base_uri": "https://localhost:8080/"
        },
        "id": "O30k53pEU1-z",
        "outputId": "2851251d-b592-4c50-b9dc-2d5f67825696"
      },
      "execution_count": null,
      "outputs": [
        {
          "output_type": "execute_result",
          "data": {
            "text/plain": [
              "[1, 0, 0]"
            ]
          },
          "metadata": {},
          "execution_count": 38
        }
      ]
    },
    {
      "cell_type": "markdown",
      "source": [
        "Tha labelDictionary variable is a dictionary that says how many times certain label exists in the array labels"
      ],
      "metadata": {
        "id": "3Qp1uN_T7_lo"
      }
    },
    {
      "cell_type": "code",
      "source": [
        "labelDictionary = {}\n",
        "for label in labels:\n",
        "  if label in labelDictionary:\n",
        "    labelDictionary[label] = labelDictionary[label] + 1\n",
        "  else:\n",
        "    labelDictionary[label] = 1"
      ],
      "metadata": {
        "id": "oIf2MQnaXLd6"
      },
      "execution_count": null,
      "outputs": []
    },
    {
      "cell_type": "markdown",
      "source": [
        "Then I get the values of the dictionary to sort them and then take the last element because the last element is the higher one."
      ],
      "metadata": {
        "id": "_1NwxIM88bEz"
      }
    },
    {
      "cell_type": "code",
      "source": [
        "labelRepetitions = labelDictionary.values()\n",
        "sortedRepetitions = sorted(labelRepetitions)\n",
        "max = sortedRepetitions[-1] #here I get the higher number of repetitions of a label.\n",
        "response = ''\n",
        "for label in labelDictionary:\n",
        "  if labelDictionary[label] == max:\n",
        "    response = label\n",
        "    break\n",
        "print(f\"the new data most probably belongs to the label {response}\")"
      ],
      "metadata": {
        "colab": {
          "base_uri": "https://localhost:8080/"
        },
        "id": "05AIDLiy8b0_",
        "outputId": "9a9f7972-8833-4950-a09a-db7597f7ead8"
      },
      "execution_count": null,
      "outputs": [
        {
          "output_type": "stream",
          "name": "stdout",
          "text": [
            "the new data most probably belongs to the label 0\n"
          ]
        }
      ]
    },
    {
      "cell_type": "code",
      "source": [
        "!jupyter nbconvert --execute --to html \"/content/knn.ipynb\""
      ],
      "metadata": {
        "colab": {
          "base_uri": "https://localhost:8080/"
        },
        "id": "Ulk24GM_C8nb",
        "outputId": "b047fe7a-79ab-4e0b-a5c2-8315674c8d97"
      },
      "execution_count": null,
      "outputs": [
        {
          "output_type": "stream",
          "name": "stdout",
          "text": [
            "[NbConvertApp] Converting notebook /content/knn.ipynb to html\n",
            "[NbConvertApp] Writing 592920 bytes to /content/knn.html\n"
          ]
        }
      ]
    }
  ]
}